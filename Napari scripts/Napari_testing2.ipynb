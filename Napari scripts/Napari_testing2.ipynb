{
 "cells": [
  {
   "cell_type": "markdown",
   "metadata": {},
   "source": [
    "reading in 72 stacks of 2048^2 88 slices (72, 88, 2048, 2048) consumed 50 GB of memory and take 22 minutes. "
   ]
  },
  {
   "cell_type": "code",
   "execution_count": null,
   "metadata": {},
   "outputs": [],
   "source": [
    "import os\n",
    "import numpy as np \n",
    "from pathlib import Path\n",
    "from tifffile import imread\n",
    "from tifffile import imsave\n",
    "\n",
    "file_folder = Path('/Volumes/FlashSSD2/1-460')\n",
    "files = [item for item in os.listdir(file_folder) if item.endswith('.tif') and 'C00' in item and not item.startswith('.')]\n",
    "files.sort()"
   ]
  },
  {
   "cell_type": "code",
   "execution_count": null,
   "metadata": {},
   "outputs": [],
   "source": [
    "i0_C00_files = [item for item in files if 'I0' in item]\n",
    "i1_C00_files = [item for item in files if 'I1' in item]\n",
    "i0_C00_files.sort()\n",
    "i0_C00_files.sort()"
   ]
  },
  {
   "cell_type": "code",
   "execution_count": null,
   "metadata": {},
   "outputs": [],
   "source": [
    "sample_image = imread(file_folder / i0_C00_files[0])\n",
    "slices = sample_image.shape[0]\n",
    "pixels = sample_image.shape[1]\n",
    "\n",
    "xy_scale_factor = 8\n",
    "z_scale_factor = 2\n",
    "xy_scaled_pixels = int(pixels / xy_scale_factor)\n",
    "z_scaled_pixels = int(slices / z_scale_factor)\n",
    "\n",
    "frames = len(i0_C00_files)\n",
    "\n",
    "if len(i0_C00_files) == len(i1_C00_files):\n",
    "    i0_C00 = np.zeros((frames, z_scaled_pixels, xy_scaled_pixels, xy_scaled_pixels), dtype = 'uint16')\n",
    "    i1_C00 = np.zeros((frames, z_scaled_pixels, xy_scaled_pixels, xy_scaled_pixels), dtype = 'uint16')\n",
    "    c00 = np.zeros((frames, z_scaled_pixels, xy_scaled_pixels, xy_scaled_pixels), dtype = 'uint16')\n",
    "    print('finished creating empty arrays')\n",
    "else:\n",
    "    print('mismatch in the number of left sided and right sided illumination frames')"
   ]
  },
  {
   "cell_type": "code",
   "execution_count": null,
   "metadata": {},
   "outputs": [],
   "source": [
    "for index in range(frames):\n",
    "    print(f'starting to load time point {index}')\n",
    "    i0_C00[index] = imread(file_folder / i0_C00_files[index])[::z_scale_factor,::xy_scale_factor,::xy_scale_factor]\n",
    "    print('finished loading left side illumination for channel 1')\n",
    "    i1_C00[index] = imread(file_folder / i1_C00_files[index])[::z_scale_factor,::xy_scale_factor,::xy_scale_factor]\n",
    "    print('finihed loading right side illumination for channel 1')\n",
    "    c00[index] = np.maximum(i0_C00[index], i1_C00[index])\n",
    "    print('finished calculating max projection of left and right sided illumination for channel 1')\n",
    "    print(f'{index/frames*100}% finished downsampling all frames')\n"
   ]
  },
  {
   "cell_type": "code",
   "execution_count": null,
   "metadata": {},
   "outputs": [],
   "source": [
    "imsave('/Users/bementmbp/Desktop/test.tif', c00)"
   ]
  },
  {
   "cell_type": "markdown",
   "metadata": {},
   "source": [
    "81.4 / 10 = 8.14 mb / frame\n",
    "\n",
    "461 frames * 8.14 mb/frame = 3752.54 mb ~3.7GB"
   ]
  },
  {
   "cell_type": "code",
   "execution_count": null,
   "metadata": {},
   "outputs": [],
   "source": [
    "import napari\n",
    "%gui qt\n",
    "viewer = napari.Viewer()"
   ]
  },
  {
   "cell_type": "code",
   "execution_count": null,
   "metadata": {},
   "outputs": [],
   "source": [
    "aspect_xz = (2.5 * z_scale_factor) / ((6.4/16)*xy_scale_factor)\n",
    "viewer.add_image(c00, contrast_limits=(0,2500), colormap='gray', blending='additive', scale=(aspect_xz, 1,1))"
   ]
  },
  {
   "cell_type": "code",
   "execution_count": null,
   "metadata": {},
   "outputs": [],
   "source": [
    "i0_C00 = np.zeros((len(i0_C00_files), 179, 512, 512), dtype = 'uint16')\n",
    "i1_C00 = np.zeros((len(i1_C00_files), 179, 512, 512), dtype = 'uint16')\n",
    "i0_C02 = np.zeros((len(i0_C02_files), 179, 512, 512), dtype = 'uint16')\n",
    "i1_C02 = np.zeros((len(i1_C02_files), 179, 512, 512), dtype = 'uint16')\n",
    "c00 = np.zeros((len(i1_C02_files), 179, 512, 512), dtype = 'uint16')\n",
    "c02 = np.zeros((len(i1_C02_files), 179, 512, 512), dtype = 'uint16')\n",
    "\n",
    "for index, image in enumerate(i0_C00_files):\n",
    "    i0_C00[index] = imread(file_folder / i0_C00_files[index])[::,::4,::4]\n",
    "    i1_C00[index] = imread(file_folder / i1_C00_files[index])[::,::4,::4]\n",
    "    i0_C02[index] = imread(file_folder / i0_C02_files[index])[::,::4,::4]\n",
    "    i1_C02[index] = imread(file_folder / i1_C02_files[index])[::,::4,::4]\n",
    "    c00[index] = np.maximum(i0_C00[index], i1_C00[index])\n",
    "    c02[index] = np.maximum(i0_C02[index], i1_C02[index])\n",
    "    print(f'{round(index/len(i0_C00_files)*100,2)}% finished reading')\n"
   ]
  },
  {
   "cell_type": "code",
   "execution_count": null,
   "metadata": {},
   "outputs": [],
   "source": []
  },
  {
   "cell_type": "code",
   "execution_count": null,
   "metadata": {},
   "outputs": [],
   "source": [
    "test = imread('/Volumes/Extreme_Pro/20220318_180146_Itsn1HighE1Series/S000_t000000_V000_R0000_X000_Y000_C00_I1_D0_P00179.tif')\n",
    "viewer.add_image(test)"
   ]
  },
  {
   "cell_type": "code",
   "execution_count": null,
   "metadata": {},
   "outputs": [],
   "source": [
    "aspect_xz = 2.5 / 0.4\n",
    "viewer.add_image(test_im, scale=(aspect_xz, 1,1))"
   ]
  },
  {
   "cell_type": "code",
   "execution_count": null,
   "metadata": {},
   "outputs": [],
   "source": [
    "#from dask_image.imread import imread\n",
    "import dask.array.image\n",
    "from pathlib import Path\n",
    "base = Path.cwd()\n",
    "images = dask.array.image.imread('/Volumes/Extreme Pro/20220316_125052_CntrlEmb/0_right_side_only/*.tif') # Dask array type, with shape (200, 520, 696) (images, ydim, xdim)"
   ]
  },
  {
   "cell_type": "code",
   "execution_count": null,
   "metadata": {},
   "outputs": [],
   "source": [
    "images"
   ]
  },
  {
   "cell_type": "code",
   "execution_count": null,
   "metadata": {},
   "outputs": [],
   "source": [
    "\n",
    "print(test.shape)"
   ]
  },
  {
   "cell_type": "code",
   "execution_count": null,
   "metadata": {},
   "outputs": [],
   "source": [
    "import napari\n",
    "%gui qt\n",
    "viewer = napari.Viewer()"
   ]
  },
  {
   "cell_type": "code",
   "execution_count": null,
   "metadata": {},
   "outputs": [],
   "source": [
    "viewer.add_image(images)"
   ]
  },
  {
   "cell_type": "markdown",
   "metadata": {},
   "source": [
    "Pre-process the data (here we will just smooth):"
   ]
  },
  {
   "cell_type": "code",
   "execution_count": null,
   "metadata": {},
   "outputs": [],
   "source": [
    "from dask_image import ndfilters\n",
    "smoothed = ndfilters.gaussian_filter(images, sigma=[0, 1, 1])\n",
    "# smoothed is a Dask array of the smoothed images"
   ]
  },
  {
   "cell_type": "markdown",
   "metadata": {},
   "source": [
    "Let's try an absolute threshold, and display the results in Napari:"
   ]
  },
  {
   "cell_type": "code",
   "execution_count": null,
   "metadata": {},
   "outputs": [],
   "source": [
    "import napari\n",
    "%gui qt\n",
    "viewer = napari.Viewer()\n",
    "absolute_threshold = smoothed > 160\n",
    "viewer.add_image(absolute_threshold, opacity = 0.5)\n",
    "viewer.add_image(images, contrast_limits=[0, 2000], blending='additive')"
   ]
  },
  {
   "cell_type": "markdown",
   "metadata": {},
   "source": [
    "This works okay, but not great, and NOT equally for all images"
   ]
  },
  {
   "cell_type": "code",
   "execution_count": null,
   "metadata": {},
   "outputs": [],
   "source": [
    "from napari.utils import nbscreenshot\n",
    "nbscreenshot(viewer)"
   ]
  },
  {
   "cell_type": "markdown",
   "metadata": {},
   "source": [
    "Instead, let's try a local threshold instead (https://image.dask.org/en/2021.12.0/dask_image.ndfilters.html?highlight=threshold_local#dask_image.ndfilters.threshold_local)"
   ]
  },
  {
   "cell_type": "code",
   "execution_count": null,
   "metadata": {},
   "outputs": [],
   "source": [
    "thresh = ndfilters.threshold_local(image = smoothed, block_size = images.chunksize)\n",
    "threshold_images = smoothed > thresh                            # images.chunksize is (1, 520, 696), one image "
   ]
  },
  {
   "cell_type": "markdown",
   "metadata": {},
   "source": [
    "Let's get rid of our old layers"
   ]
  },
  {
   "cell_type": "code",
   "execution_count": null,
   "metadata": {},
   "outputs": [],
   "source": [
    "def removeLayers():\n",
    "    layers = viewer.layers\n",
    "    while len(layers) > 0:\n",
    "        layers.remove(layers[0])    \n",
    "\n",
    "removeLayers()"
   ]
  },
  {
   "cell_type": "markdown",
   "metadata": {},
   "source": [
    "And visualize our new threshold. Much better!"
   ]
  },
  {
   "cell_type": "code",
   "execution_count": null,
   "metadata": {},
   "outputs": [],
   "source": [
    "viewer.add_image(threshold_images, opacity = 0.5)\n",
    "viewer.add_image(images, contrast_limits=[0, 2000], blending='additive')"
   ]
  },
  {
   "cell_type": "code",
   "execution_count": null,
   "metadata": {},
   "outputs": [],
   "source": [
    "from napari.utils import nbscreenshot\n",
    "nbscreenshot(viewer)"
   ]
  },
  {
   "cell_type": "markdown",
   "metadata": {},
   "source": [
    "Let's clean up our threshold by running a binary \"opening\" (erosion followed by dilation) http://image.dask.org/en/latest/dask_image.ndmorph.html#dask_image.ndmorph.binary_opening\n",
    "\n",
    "NOTE: Dask apparently does not support watershedding..."
   ]
  },
  {
   "cell_type": "code",
   "execution_count": null,
   "metadata": {},
   "outputs": [],
   "source": [
    "from dask_image import ndmorph\n",
    "import numpy as np\n",
    "\n",
    "structuring_element = np.array([        # this is equivalent to the defaults 2D structuring element, so we don't influence neighboring slices in our array\n",
    "    [[0, 0, 0], [0, 0, 0], [0, 0, 0]],  # [[0, 1, 0],\n",
    "    [[0, 1, 0], [1, 1, 1], [0, 1, 0]],  #  [1, 1, 1],\n",
    "    [[0, 0, 0], [0, 0, 0], [0, 0, 0]]]) #  [0, 1, 0]]\n",
    "\n",
    "binary_images = ndmorph.binary_opening(threshold_images, structure=structuring_element)"
   ]
  },
  {
   "cell_type": "code",
   "execution_count": null,
   "metadata": {},
   "outputs": [],
   "source": [
    "viewer.add_image(binary_images)"
   ]
  },
  {
   "cell_type": "markdown",
   "metadata": {},
   "source": [
    "Let's create labels for the binary features so we can analyze them "
   ]
  },
  {
   "cell_type": "code",
   "execution_count": null,
   "metadata": {},
   "outputs": [],
   "source": [
    "from dask_image import ndmeasure\n",
    "\n",
    "# Create labelled mask\n",
    "label_images, num_features = ndmeasure.label(binary_images, structuring_element)\n",
    "index = np.arange(num_features - 1) + 1 \n",
    "viewer.add_labels(label_images)"
   ]
  },
  {
   "cell_type": "markdown",
   "metadata": {},
   "source": [
    "Now each feature is labeled and can be analyzed independently"
   ]
  },
  {
   "cell_type": "code",
   "execution_count": null,
   "metadata": {},
   "outputs": [],
   "source": [
    "from napari.utils import nbscreenshot\n",
    "nbscreenshot(viewer)"
   ]
  },
  {
   "cell_type": "markdown",
   "metadata": {},
   "source": [
    "Let's count how many nuclei we have thresholded"
   ]
  },
  {
   "cell_type": "code",
   "execution_count": null,
   "metadata": {},
   "outputs": [],
   "source": [
    "print(\"Number of nuclei:\", num_features.compute())"
   ]
  },
  {
   "cell_type": "markdown",
   "metadata": {},
   "source": [
    "We can also make measurements like area and mean intensity"
   ]
  },
  {
   "cell_type": "code",
   "execution_count": null,
   "metadata": {},
   "outputs": [],
   "source": [
    "area = ndmeasure.area(images, label_images, index)\n",
    "mean_intensity = ndmeasure.mean(images, label_images, index)"
   ]
  },
  {
   "cell_type": "markdown",
   "metadata": {},
   "source": [
    "Which we can plot interactively"
   ]
  },
  {
   "cell_type": "code",
   "execution_count": null,
   "metadata": {},
   "outputs": [],
   "source": [
    "import matplotlib.pyplot as plt\n",
    "\n",
    "plt.scatter(area, mean_intensity, alpha=0.5)\n",
    "plt.gca().update(dict(title=\"Area vs mean intensity\", xlabel='Area (pixels)', ylabel='Mean intensity'))\n",
    "plt.show()"
   ]
  },
  {
   "cell_type": "code",
   "execution_count": null,
   "metadata": {},
   "outputs": [],
   "source": []
  }
 ],
 "metadata": {
  "interpreter": {
   "hash": "e4c1fb223c703cb8ba3c5e1550af52b809f2cbdf11a7b6e6daf63974ff124429"
  },
  "kernelspec": {
   "display_name": "Python 3.9.9 64-bit ('napari': conda)",
   "language": "python",
   "name": "python3"
  },
  "language_info": {
   "codemirror_mode": {
    "name": "ipython",
    "version": 3
   },
   "file_extension": ".py",
   "mimetype": "text/x-python",
   "name": "python",
   "nbconvert_exporter": "python",
   "pygments_lexer": "ipython3",
   "version": "3.9.9"
  },
  "orig_nbformat": 4
 },
 "nbformat": 4,
 "nbformat_minor": 2
}
