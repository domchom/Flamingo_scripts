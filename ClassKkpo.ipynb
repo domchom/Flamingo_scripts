{
 "cells": [
  {
   "cell_type": "markdown",
   "metadata": {},
   "source": [
    "## Ideas:\n",
    "\n",
    "### Attributes\n",
    "\n",
    "- illumination (one or two) - how does Flamingo converter check these attributes?\n",
    "- channels\n",
    "- time points\n",
    "- positions\n",
    "- frame interval - diff between last and first time stamp.\n",
    "- magnification - probably just parse metadata file.\n",
    "\n",
    "### Methods\n",
    "\n",
    "- Save max projection\n",
    "    - Memory converving option: open/save individual frames in dir\n",
    "    - Full stack option: concatenate MPs into stack and save stack.\n",
    "- Downsample 3D\n",
    "    - Memory converving option: open/save individual 3D frames in dir\n",
    "    - Full stack option: concatenate MPs into stack and save stack.\n",
    "    - View in Napari True/False\n",
    "- Combined Max projection and Downsample 3D\n",
    "    - Computes both at once as a nice saver. Will use slightly more memory but save a lot of time. \n",
    "    - \n",
    "\n",
    "### Thoughts\n",
    "\n",
    "- it would probably be faster to 1) max project each side, then max project those together and 2) downsample 3d volumes before merging instead of the current workflow which is to merge the full volume before max projecting and merging\n",
    "- measure the time of each step (reading, processing, writing); see if it's worth reading in a separate thread from processing. Might need both multithreading and multiiprocessing I suppose. "
   ]
  },
  {
   "cell_type": "markdown",
   "metadata": {},
   "source": [
    "go through the files and make a list of files for each region\n",
    "\n",
    "go through the files in each region and "
   ]
  },
  {
   "cell_type": "code",
   "execution_count": 15,
   "metadata": {},
   "outputs": [
    {
     "name": "stdout",
     "output_type": "stream",
     "text": [
      "first timepoint date is  20220331\n",
      "first timepoint time is 190535\n",
      "last timepoint date is  20220331\n",
      "last timepoint time is 205534\n",
      "14999\n",
      "0:00:00\n",
      "12\n"
     ]
    }
   ],
   "source": [
    "import os\n",
    "import sys\n",
    "import numpy as np\n",
    "from pathlib import Path\n",
    "from datetime import date \n",
    "\n",
    "class Kkpo:\n",
    "\n",
    "    def __init__(self, file_path=None):\n",
    "        if file_path == None:\n",
    "            print('*****'*9)\n",
    "            print(\"I can't make a Kakapo without a file path!\")\n",
    "            print('*****'*9)\n",
    "            sys.exit()\n",
    "        self.file_path = Path(file_path)\n",
    "        self.files = [file for file in os.listdir(self.file_path) if file.endswith('.tif') and not file.startswith('.') and not 'MP' in file]\n",
    "        self.timepoint_names = [file.split('_')[1] for file in self.files]\n",
    "        self.region_names = [file.split('_')[3] for file in self.files]\n",
    "        self.channel_names = [file.split('_')[6] for file in self.files]\n",
    "        self.illum_names = [file.split('_')[7] for file in self.files]\n",
    "\n",
    "        self.num_regions = len(np.unique(self.region_names))\n",
    "        self.num_channels = len(np.unique(self.channel_names))\n",
    "        self.num_illum = len(np.unique(self.illum_names))\n",
    "        self.num_timepoints = len(np.unique(self.timepoint_names))\n",
    "        self.get_interval()\n",
    "\n",
    "    def get_interval(self):\n",
    "        setting_files = [file for file in os.listdir(self.file_path) if \"Settings.txt\" in file and not file.startswith('.')]\n",
    "        first_timepoint_name = [file for file in setting_files if all(match in file for match in [self.timepoint_names[0], self.region_names[0], self.channel_names[0], self.illum_names[0]])]\n",
    "        last_timepoint_name = [file for file in setting_files if all(match in file for match in [self.timepoint_names[-1], self.region_names[0], self.channel_names[0], self.illum_names[0]])]\n",
    "        # quality control\n",
    "        if len(first_timepoint_name) != 1 or len(last_timepoint_name) != 1:\n",
    "            print('*****'*9)\n",
    "            print(f'EEROR:Problem with the settings file!\\n{len(first_timepoint_name)} first and {len(last_timepoint_name)} last timepoint names found.\\n',\n",
    "                  f'Expected 1 first and 1 last timepoint name. Exiting...')\n",
    "            print('*****'*9)\n",
    "            sys.exit()\n",
    "        # read the settings file, get the start and end times\n",
    "        first_timepoint_file = np.loadtxt(self.file_path / first_timepoint_name[0], dtype='str', delimiter = '/n')\n",
    "        last_timepoint_file = np.loadtxt(self.file_path / last_timepoint_name[0], dtype='str', delimiter = '/n')\n",
    "        first_timestamp_line = [line for line in first_timepoint_file if 'Date time stamp' in line][0]\n",
    "        last_timestamp_line = [line for line in last_timepoint_file if 'Date time stamp' in line][0]\n",
    "        first_timestamp_val = first_timestamp_line.split('=')[-1]\n",
    "        last_timestamp_val = last_timestamp_line.split('=')[-1]\n",
    "        first_timestamp_date_raw = first_timestamp_val.split('_')[0]\n",
    "        last_timestamp_date_raw = last_timestamp_val.split('_')[0]\n",
    "\n",
    "        d0 = date(int(first_timestamp_date_raw[0:5]), int(first_timestamp_date_raw[5:7]), int(first_timestamp_date_raw[7:9]))\n",
    "        d1 = date(int(last_timestamp_date_raw[0:5]), int(last_timestamp_date_raw[5:7]), int(last_timestamp_date_raw[7:9]))\n",
    "        first_timestamp_time = int(first_timestamp_val.split('_')[-1])\n",
    "        last_timestamp_time = int(last_timestamp_val.split('_')[-1])\n",
    "        print(f'first timepoint date is {first_timestamp_date_raw}')\n",
    "        print(f'first timepoint time is {first_timestamp_time}')\n",
    "        print(f'last timepoint date is {last_timestamp_date_raw}')\n",
    "        print(f'last timepoint time is {last_timestamp_time}')\n",
    "        # calculate interval from first and last timepoint\n",
    "        hours = last_timestamp_time - first_timestamp_time\n",
    "        print(hours)\n",
    "        print(d1-d0)\n",
    "\n",
    "    def parse_settings(self):\n",
    "        pass\n",
    "        \n",
    "'''\n",
    "\n",
    "convert this to min sec etc with datetime\n",
    "'''\n",
    "\n",
    "kkpo = Kkpo('E:\\kkpo_test\\song')\n",
    "\n",
    "print(kkpo.num_timepoints)"
   ]
  },
  {
   "cell_type": "code",
   "execution_count": 37,
   "metadata": {},
   "outputs": [
    {
     "name": "stdout",
     "output_type": "stream",
     "text": [
      "['<Workflow Settings>' '  <Experiment Settings>'\n",
      " '    Plane spacing (um) = 2.5' '    Frame rate (f/s) = 33.335556'\n",
      " '    Exposure time (us) = 29998'\n",
      " '    Duration (dd:hh:mm:ss) = 00:13:00:00'\n",
      " '    Interval (dd:hh:mm:ss) = 00:00:10:00' '    Sample = '\n",
      " '    Number of angles = ' '    Angle step size = ' '    Region = 2'\n",
      " '    Save image directory = /scratch/20220331_190533_EXP84'\n",
      " '    Comments = BestExperimentEver' '    Save max projection = false'\n",
      " '    Display max projection = false'\n",
      " '    Save image data in tiff format = true'\n",
      " '    Save image data in raw format = false'\n",
      " '    Save to subfolders = false'\n",
      " '    Work flow live view enabled = false' '  </Experiment Settings>'\n",
      " '  <Camera Settings>' '    Exposure time (us) = 29998'\n",
      " '    Frame rate (f/s) = 33.335556' '    AOI width = 2048'\n",
      " '    AOI height = 2048' '  </Camera Settings>' '  <Stack Settings>'\n",
      " '    Stack index = 2' '    Change in Z axis (mm) = 0.734'\n",
      " '    Number of planes = 294' '    Number of planes saved = 0'\n",
      " '    Stage velocity (mm/s) = 0.083339 mm/s'\n",
      " '    Date time stamp = 20220331_190631'\n",
      " '    Stack file name = /scratch/20220331_190533_EXP84/S000_t000000_V000_R0002_X000_Y000_C02_I0'\n",
      " '    Camera 1 capture percentage = 5'\n",
      " '    Camera 1 capture mode (0 full, 1 from front, 2 from back, 3 none) = 0'\n",
      " '    Camera 1 capture range = 0 to 293'\n",
      " '    Camera 2 capture percentage = 100'\n",
      " '    Camera 2 capture mode (0 full, 1 from front, 2 from back, 3 none) = 0'\n",
      " '    Camera 2 capture range = ' '    Stack option = None'\n",
      " '    Stack option settings 2 = ' '     = ' '  </Stack Settings>'\n",
      " '  <Start Position>' '    X (mm) = 13.819000' '    Y (mm) = 20.146000'\n",
      " '    Z (mm) = 11.965' '    Angle (degrees) = -153.675'\n",
      " '  </Start Position>' '  <End Position>' '    X (mm) = 13.819000'\n",
      " '    Y (mm) = 20.146000' '    Z (mm) = 12.699'\n",
      " '    Angle (degrees) = -153.675' '  </End Position>'\n",
      " '  <Illumination Source>' '    Laser 1 640 nm = 0.00 0'\n",
      " '    Laser 2 561 nm = 69.95 1' '    Laser 3 488 nm = 50.00 1'\n",
      " '    Laser 4 405 nm = 50.00 1' '    LED_RGB_Board = 26.27 0'\n",
      " '    LED selection = 0 0' '    LED DAC = 40810 0'\n",
      " '  </Illumination Source>' '  <Illumination Path>' '    Left path = ON 1'\n",
      " '    Right path = OFF 0' '  </Illumination Path>' '</Workflow Settings>']\n"
     ]
    }
   ],
   "source": [
    "filepath = '/Volumes/FlashSSD2/song/S000_t000000_V000_R0002_X000_Y000_C02_I0_D0_P00294_Settings.txt'\n",
    "file = np.loadtxt(filepath, dtype='str', delimiter = '/n')\n",
    "\n",
    "print(file)"
   ]
  },
  {
   "cell_type": "code",
   "execution_count": 16,
   "metadata": {},
   "outputs": [],
   "source": [
    "class Test(object):\n",
    "    def __init__(self):\n",
    "        self.hi()\n",
    "\n",
    "    def hi(self):\n",
    "        print (\"Hi!\")"
   ]
  },
  {
   "cell_type": "code",
   "execution_count": 17,
   "metadata": {},
   "outputs": [
    {
     "name": "stdout",
     "output_type": "stream",
     "text": [
      "Hi!\n"
     ]
    }
   ],
   "source": [
    "test = Test()"
   ]
  },
  {
   "cell_type": "code",
   "execution_count": null,
   "metadata": {},
   "outputs": [],
   "source": [
    "file = 'S000_t000000_V000_R0000_X000_Y000_C00_I0_D0_P00135.tif'\n",
    "\n",
    "\n",
    "        print(f'unique sample names: {np.unique(sample_names)}')\n",
    "        #print(f'unique time point names: {np.unique(timepoint_names)}')\n",
    "        print(f'unique view names: {np.unique(view_names)}')\n",
    "        print(f'unique region names: {np.unique(region_names)}')\n",
    "        print(f'unique tileX names: {np.unique(tileX_names)}')\n",
    "        print(f'unique tileY names: {np.unique(tileY_names)}')\n",
    "        print(f'unique chanel names: {np.unique(channel_names)}')\n",
    "        print(f'unique illumination names: {np.unique(illum_names)}')\n",
    "\n",
    "        ch_640 = [file for file in files if 'C00' in file]\n",
    "        ch_561 = [file for file in files if 'C01' in file]\n",
    "        ch_488 = [file for file in files if 'C02' in file]\n",
    "        ch_405 = [file for file in files if 'C03' in file]\n",
    "        trans = [file for file in files if 'C04' in file]\n",
    "\n",
    "        print('***'*8)\n",
    "        print(f'num channels is {num_channels}')\n",
    "        print(f'num trans images is {len(trans)}')\n",
    "        print(f'num 405 images is {len(ch_405)}')\n",
    "        print(f'num 488 images is {len(ch_488)}')\n",
    "        print(f'num 561 images is {len(ch_561)}')\n",
    "        print(f'num 640 images is {len(ch_640)}')\n",
    "        print('***'*8)"
   ]
  },
  {
   "cell_type": "code",
   "execution_count": null,
   "metadata": {},
   "outputs": [],
   "source": []
  }
 ],
 "metadata": {
  "interpreter": {
   "hash": "0bcebb60750f4ab85b4479e9e54d661a2eef6ceb08c942dd15c4d95aee426382"
  },
  "kernelspec": {
   "display_name": "Python 3.10.4 ('kkpo_dev')",
   "language": "python",
   "name": "python3"
  },
  "language_info": {
   "codemirror_mode": {
    "name": "ipython",
    "version": 3
   },
   "file_extension": ".py",
   "mimetype": "text/x-python",
   "name": "python",
   "nbconvert_exporter": "python",
   "pygments_lexer": "ipython3",
   "version": "3.10.4"
  },
  "orig_nbformat": 4
 },
 "nbformat": 4,
 "nbformat_minor": 2
}
