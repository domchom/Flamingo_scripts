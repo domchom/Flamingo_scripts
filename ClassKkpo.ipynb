{
 "cells": [
  {
   "cell_type": "markdown",
   "metadata": {},
   "source": [
    "## Ideas:\n",
    "\n",
    "### Attributes\n",
    "\n",
    "- illumination (one or two) - how does Flamingo converter check these attributes?\n",
    "- channels\n",
    "- time points\n",
    "- positions\n",
    "- frame interval - diff between last and first time stamp.\n",
    "- magnification - probably just parse metadata file.\n",
    "\n",
    "### Methods\n",
    "\n",
    "- Save max projection\n",
    "    - Memory converving option: open/save individual frames in dir\n",
    "    - Full stack option: concatenate MPs into stack and save stack.\n",
    "- Downsample 3D\n",
    "    - Memory converving option: open/save individual 3D frames in dir\n",
    "    - Full stack option: concatenate MPs into stack and save stack.\n",
    "    - View in Napari True/False\n",
    "- Combined Max projection and Downsample 3D\n",
    "    - Computes both at once as a nice saver. Will use slightly more memory but save a lot of time. \n",
    "    - \n",
    "\n",
    "### Thoughts\n",
    "\n",
    "- it would probably be faster to 1) max project each side, then max project those together and 2) downsample 3d volumes before merging instead of the current workflow which is to merge the full volume before max projecting and merging\n",
    "- measure the time of each step (reading, processing, writing); see if it's worth reading in a separate thread from processing. Might need both multithreading and multiiprocessing I suppose. "
   ]
  },
  {
   "cell_type": "code",
   "execution_count": 30,
   "metadata": {},
   "outputs": [
    {
     "name": "stdout",
     "output_type": "stream",
     "text": [
      "{'file_path': '/Volumes/FlashSSD2/20220415_143603_GFPwGBDE01T01'}\n",
      "unique sample names: ['S000']\n",
      "unique view names: ['V000']\n",
      "unique region names: ['R0000']\n",
      "unique tileX names: ['X000']\n",
      "unique tileY names: ['Y000']\n",
      "unique chanel names: ['C00' 'C01' 'C02']\n",
      "unique illumination names: ['I0' 'I1']\n",
      "************************\n",
      "num channels is 3\n",
      "num trans images is 0\n",
      "num 405 images is 0\n",
      "num 488 images is 368\n",
      "num 561 images is 369\n",
      "num 640 images is 370\n",
      "************************\n"
     ]
    }
   ],
   "source": [
    "import os\n",
    "import numpy as np\n",
    "\n",
    "class Kkpo:\n",
    "\n",
    "    def __init__(self, file_path):\n",
    "\n",
    "        self.file_path = file_path\n",
    "\n",
    "    def get_dimensions(self):\n",
    "        files = [file for file in os.listdir(self.file_path) if file.endswith('.tif') and not file.startswith('.') and not 'MP' in file]\n",
    "        sample_names = [file.split('_')[0] for file in files]\n",
    "        timepoint_names = [file.split('_')[1] for file in files]\n",
    "        view_names = [file.split('_')[2] for file in files]\n",
    "        region_names = [file.split('_')[3] for file in files]\n",
    "        tileX_names = [file.split('_')[4] for file in files]\n",
    "        tileY_names = [file.split('_')[5] for file in files]\n",
    "        channel_names = [file.split('_')[6] for file in files]\n",
    "        illum_names = [file.split('_')[7] for file in files]\n",
    "\n",
    "        ch_640 = [file for file in files if 'C00' in file]\n",
    "        ch_561 = [file for file in files if 'C01' in file]\n",
    "        ch_488 = [file for file in files if 'C02' in file]\n",
    "        ch_405 = [file for file in files if 'C03' in file]\n",
    "        trans = [file for file in files if 'C04' in file]\n",
    "\n",
    "        print(f'unique sample names: {np.unique(sample_names)}')\n",
    "        #print(f'unique time point names: {np.unique(timepoint_names)}')\n",
    "        print(f'unique view names: {np.unique(view_names)}')\n",
    "        print(f'unique region names: {np.unique(region_names)}')\n",
    "        print(f'unique tileX names: {np.unique(tileX_names)}')\n",
    "        print(f'unique tileY names: {np.unique(tileY_names)}')\n",
    "        print(f'unique chanel names: {np.unique(channel_names)}')\n",
    "        print(f'unique illumination names: {np.unique(illum_names)}')\n",
    "\n",
    "\n",
    "        num_channels = 0\n",
    "        for ch in [ch_640, ch_561, ch_488, ch_405, trans]:\n",
    "            if len(ch) > 0:\n",
    "                num_channels += 1\n",
    "\n",
    "        print('***'*8)\n",
    "        print(f'num channels is {num_channels}')\n",
    "        print(f'num trans images is {len(trans)}')\n",
    "        print(f'num 405 images is {len(ch_405)}')\n",
    "        print(f'num 488 images is {len(ch_488)}')\n",
    "        print(f'num 561 images is {len(ch_561)}')\n",
    "        print(f'num 640 images is {len(ch_640)}')\n",
    "        print('***'*8)\n",
    "    \n",
    "\n",
    "\n",
    "kkpo = Kkpo(file_path = '/Volumes/FlashSSD2/20220415_143603_GFPwGBDE01T01')\n",
    "print(vars(kkpo))\n",
    "kkpo.get_dimensions()"
   ]
  },
  {
   "cell_type": "code",
   "execution_count": 16,
   "metadata": {},
   "outputs": [],
   "source": [
    "class Test(object):\n",
    "    def __init__(self):\n",
    "        self.hi()\n",
    "\n",
    "    def hi(self):\n",
    "        print (\"Hi!\")"
   ]
  },
  {
   "cell_type": "code",
   "execution_count": 17,
   "metadata": {},
   "outputs": [
    {
     "name": "stdout",
     "output_type": "stream",
     "text": [
      "Hi!\n"
     ]
    }
   ],
   "source": [
    "test = Test()"
   ]
  },
  {
   "cell_type": "code",
   "execution_count": null,
   "metadata": {},
   "outputs": [],
   "source": [
    "file = 'S000_t000000_V000_R0000_X000_Y000_C00_I0_D0_P00135.tif'\n",
    "\n"
   ]
  }
 ],
 "metadata": {
  "interpreter": {
   "hash": "c5c7d5aa80c35ae304e70bc4694215fb1ab981938c4772a7665046f80bbf53d5"
  },
  "kernelspec": {
   "display_name": "Python 3.9.9 ('napari4')",
   "language": "python",
   "name": "python3"
  },
  "language_info": {
   "codemirror_mode": {
    "name": "ipython",
    "version": 3
   },
   "file_extension": ".py",
   "mimetype": "text/x-python",
   "name": "python",
   "nbconvert_exporter": "python",
   "pygments_lexer": "ipython3",
   "version": "3.9.9"
  },
  "orig_nbformat": 4
 },
 "nbformat": 4,
 "nbformat_minor": 2
}
