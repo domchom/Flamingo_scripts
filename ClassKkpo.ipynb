{
 "cells": [
  {
   "cell_type": "markdown",
   "metadata": {},
   "source": [
    "## Ideas:\n",
    "\n",
    "### Attributes\n",
    "\n",
    "- illumination (one or two) - how does Flamingo converter check these attributes?\n",
    "- channels\n",
    "- time points\n",
    "- positions\n",
    "- frame interval - diff between last and first time stamp.\n",
    "- magnification - probably just parse metadata file.\n",
    "\n",
    "### Methods\n",
    "\n",
    "- Save max projection\n",
    "    - Memory converving option: open/save individual frames in dir\n",
    "    - Full stack option: concatenate MPs into stack and save stack.\n",
    "- Downsample 3D\n",
    "    - Memory converving option: open/save individual 3D frames in dir\n",
    "    - Full stack option: concatenate MPs into stack and save stack.\n",
    "    - View in Napari True/False\n",
    "- Combined Max projection and Downsample 3D\n",
    "    - Computes both at once as a nice saver. Will use slightly more memory but save a lot of time. "
   ]
  },
  {
   "cell_type": "code",
   "execution_count": null,
   "metadata": {},
   "outputs": [],
   "source": []
  }
 ],
 "metadata": {
  "language_info": {
   "name": "python"
  },
  "orig_nbformat": 4
 },
 "nbformat": 4,
 "nbformat_minor": 2
}
